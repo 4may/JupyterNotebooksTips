{
  "nbformat": 4,
  "nbformat_minor": 0,
  "metadata": {
    "colab": {
      "name": "Untitled21.ipynb",
      "provenance": [],
      "collapsed_sections": [],
      "authorship_tag": "ABX9TyO8oEEUylGgNTz2/bEO2lLz",
      "include_colab_link": true
    },
    "kernelspec": {
      "name": "python3",
      "display_name": "Python 3"
    }
  },
  "cells": [
    {
      "cell_type": "markdown",
      "metadata": {
        "id": "view-in-github",
        "colab_type": "text"
      },
      "source": [
        "<a href=\"https://colab.research.google.com/github/4may/JupyterNotebooksTips/blob/master/jupyter_tips.ipynb\" target=\"_parent\"><img src=\"https://colab.research.google.com/assets/colab-badge.svg\" alt=\"Open In Colab\"/></a>"
      ]
    },
    {
      "cell_type": "markdown",
      "metadata": {
        "id": "YUujvIVnzsr8",
        "colab_type": "text"
      },
      "source": [
        "# 良いJupyterNotebooksを書くための、10個のルール\n",
        "\n",
        "Ten simple rules for writing and sharing computational analyses in Jupyter Notebooksの翻訳。\n",
        "\n",
        "## Introduction\n",
        "\n",
        "* 再生産性は大事\n",
        "* JupyterNotebooksを書く = **literal programming**"
      ]
    },
    {
      "cell_type": "markdown",
      "metadata": {
        "id": "l57eYvSd5fuz",
        "colab_type": "text"
      },
      "source": [
        "## Rule1: あなたの物語を観衆に伝えよう\n",
        "\n",
        "* JupyterNotebooksを使うことで、自分の解析結果を**物語**として伝えることが出来る\n",
        "* whatに加えて**why**を書く\n",
        "* **何を目的とするか、誰に見せるか**を意識する"
      ]
    },
    {
      "cell_type": "markdown",
      "metadata": {
        "id": "p6nVTu_w5d3h",
        "colab_type": "text"
      },
      "source": [
        "## Rule2: 結果だけでなく過程を残す。\n",
        "\n",
        "* 結果出すまでにいろんな試行錯誤をするはず。その努力をぜひ残そう。\n",
        "  * 試した手法\n",
        "  * 使ったパラメータ\n",
        "  * **行き止まり**\n",
        "* あとでノートを見返した時に、どんなことをどんな考えでやったかを思い出せる\n",
        "* 人に見せるノートと、自分で見返すためのノートを分ける\n",
        "  * 人に見せるノートは綺麗にする\n",
        "  * 自分用のノートは過程を残す\n",
        "* 後回しにせず、すぐに文を書く\n",
        "* 実験が終わったらリファクタリングしよう"
      ]
    },
    {
      "cell_type": "markdown",
      "metadata": {
        "id": "YG79L6s-5heb",
        "colab_type": "text"
      },
      "source": [
        "## Rule3: 実験手順を明確にするため、cellを分割しよう\n",
        "\n",
        "* 処理の意味ごとにcellを分割しよう。1cell１処理。\n",
        "* cellの説明をcellの上につけよう\n",
        "* 長いcellは避ける。1cellあたり、多くても100行程度までにしよう。\n",
        "* 長いノートは複数のノートに分割する。その場合、目次として各ノートへのリンクを張ろう。"
      ]
    },
    {
      "cell_type": "markdown",
      "metadata": {
        "id": "SlIo_C3N77Vi",
        "colab_type": "text"
      },
      "source": [
        "## Rule4: コードをモジュール化する\n",
        "\n",
        "* 重複する処理は関数化しよう。\n",
        "* 関数化することで、以下のメリットがある。\n",
        "  * スペースを節約できる\n",
        "  * メンテしやすい\n",
        "  * デバッグしやすい"
      ]
    },
    {
      "cell_type": "markdown",
      "metadata": {
        "id": "McbS57sw_UiI",
        "colab_type": "text"
      },
      "source": [
        "## Rule5: モジュールの依存関係を記録する\n",
        "\n",
        "* モジュールはpip使って管理しよう\n",
        "* 本の最後に[実験環境に関する注釈](https://github.com/rasbt/watermark)をつける"
      ]
    },
    {
      "cell_type": "markdown",
      "metadata": {
        "id": "sIzJ9n1-_iH7",
        "colab_type": "text"
      },
      "source": [
        "## Rule6: バージョンコントロールを使おう\n",
        "\n",
        "* 何かあった時に備えて、作成したノートはgitに突っ込んでおこう\n",
        "* JupyterNotebooksの内容はjsonで管理されている。\n",
        "* デフォルトのGitのGUI上でJsonの比較はできるが、UIの比較はできない。\n",
        "* UIの比較を行いたい場合は、[nbdime](https://github.com/jupyter/nbdime)が便利\n",
        "* もしくは、[ReviewNB](https://www.reviewnb.com/). githubのプラグインとしてインストールする。こっちのが一々モジュールインストールしなくて済むし楽かも。"
      ]
    },
    {
      "cell_type": "markdown",
      "metadata": {
        "id": "EWTJTOZrBIIA",
        "colab_type": "text"
      },
      "source": [
        "## Rule7: パイプラインを構築しよう\n",
        "\n",
        "* JupyterNotebooks用のCI環境が用意されている。\n",
        "* 重要な変数はノートの先頭で宣言しよう\n",
        "* jupyter notebooksをCLIから実行できるようにする : [papermil](https://github.com/nteract/papermill)\n",
        "  * google colabでpapermillを動かそうと思った場合、[専用のドライバーが必要](https://colab.research.google.com/github/rjdoubleu/Colab-Papermill-Patch/blob/master/Colab-Papermill-Driver.ipynb)\n",
        "  * google colabとjupyter notebooksでは、Jsonのフォーマットが微妙に異なっているため、colabのJsonをjupyterのJsonのフォーマットに合わせる必要がある。\n",
        "\n",
        "* [TravisCI](https://travis-ci.org/)や[CircleCI](https://circleci.com/)を使おう"
      ]
    },
    {
      "cell_type": "markdown",
      "metadata": {
        "id": "wLu2uRT8NdJP",
        "colab_type": "text"
      },
      "source": [
        "## Rule8: 実験に使うデータを共有・説明しよう\n",
        "\n",
        "* 実験の入力データはいろんな方法で共有できる\n",
        "* ノート上でDLする\n",
        "* gitのリポジトリに置く\n",
        "* 外部ストレージを利用する ※入力データが数GB~などデカイ場合\n",
        "  * [figshare](https://figshare.com/)\n",
        "  * [zenodo](https://zenodo.org/)"
      ]
    },
    {
      "cell_type": "markdown",
      "metadata": {
        "id": "O9WElA47PE7-",
        "colab_type": "text"
      },
      "source": [
        "## Rule9: 読めて、実行して、見つけてもらえるようにしよう\n",
        "\n",
        "* READMEとLicenseをつけよう。\n",
        "\n",
        "**Read**\n",
        "\n",
        "* HTML/PDF版を作る\n",
        "* [Nbviewer](https://nbviewer.jupyter.org/)を使う\n",
        "\n",
        "**Run**\n",
        "\n",
        "* [binder](https://mybinder.org/)を使う\n",
        "  * binderという独自のクラウドサービス上で.ipynbを実行できる\n",
        "    * GKE使ってるみたい。\n",
        "  * ブラウザでもええと思うけど\n",
        "\n",
        "**Explore**\n",
        "\n",
        "* 読者がパラメータを変えて実験できるようにするために、[ipywidgets](https://ipywidgets.readthedocs.io/en/stable/)を使って、ノートを拡張してみよう。"
      ]
    },
    {
      "cell_type": "markdown",
      "metadata": {
        "id": "FnfMYThWU0K3",
        "colab_type": "text"
      },
      "source": [
        "## Rule10: ノウハウをみんなに共有しよう\n",
        "\n",
        "大事やで"
      ]
    },
    {
      "cell_type": "markdown",
      "metadata": {
        "id": "QsJ1c2jYWQN3",
        "colab_type": "text"
      },
      "source": [
        "## Appendix A\n",
        "\n",
        "実際に、OSSのwartermarkモジュールを使って注釈をつけてみよう。まず、モジュールをインストールする。"
      ]
    },
    {
      "cell_type": "code",
      "metadata": {
        "id": "1oEAUIHW90g7",
        "colab_type": "code",
        "outputId": "50a2e069-9835-41c4-8619-49d573db8483",
        "colab": {
          "base_uri": "https://localhost:8080/",
          "height": 326
        }
      },
      "source": [
        "!pip install watermark"
      ],
      "execution_count": 0,
      "outputs": [
        {
          "output_type": "stream",
          "text": [
            "Collecting watermark\n",
            "  Downloading https://files.pythonhosted.org/packages/60/fe/3ed83b6122e70dce6fe269dfd763103c333f168bf91037add73ea4fe81c2/watermark-2.0.2-py2.py3-none-any.whl\n",
            "Requirement already satisfied: ipython in /usr/local/lib/python3.6/dist-packages (from watermark) (5.5.0)\n",
            "Requirement already satisfied: setuptools>=18.5 in /usr/local/lib/python3.6/dist-packages (from ipython->watermark) (46.1.3)\n",
            "Requirement already satisfied: simplegeneric>0.8 in /usr/local/lib/python3.6/dist-packages (from ipython->watermark) (0.8.1)\n",
            "Requirement already satisfied: pexpect; sys_platform != \"win32\" in /usr/local/lib/python3.6/dist-packages (from ipython->watermark) (4.8.0)\n",
            "Requirement already satisfied: pickleshare in /usr/local/lib/python3.6/dist-packages (from ipython->watermark) (0.7.5)\n",
            "Requirement already satisfied: prompt-toolkit<2.0.0,>=1.0.4 in /usr/local/lib/python3.6/dist-packages (from ipython->watermark) (1.0.18)\n",
            "Requirement already satisfied: pygments in /usr/local/lib/python3.6/dist-packages (from ipython->watermark) (2.1.3)\n",
            "Requirement already satisfied: traitlets>=4.2 in /usr/local/lib/python3.6/dist-packages (from ipython->watermark) (4.3.3)\n",
            "Requirement already satisfied: decorator in /usr/local/lib/python3.6/dist-packages (from ipython->watermark) (4.4.2)\n",
            "Requirement already satisfied: ptyprocess>=0.5 in /usr/local/lib/python3.6/dist-packages (from pexpect; sys_platform != \"win32\"->ipython->watermark) (0.6.0)\n",
            "Requirement already satisfied: six>=1.9.0 in /usr/local/lib/python3.6/dist-packages (from prompt-toolkit<2.0.0,>=1.0.4->ipython->watermark) (1.12.0)\n",
            "Requirement already satisfied: wcwidth in /usr/local/lib/python3.6/dist-packages (from prompt-toolkit<2.0.0,>=1.0.4->ipython->watermark) (0.1.9)\n",
            "Requirement already satisfied: ipython-genutils in /usr/local/lib/python3.6/dist-packages (from traitlets>=4.2->ipython->watermark) (0.2.0)\n",
            "Installing collected packages: watermark\n",
            "Successfully installed watermark-2.0.2\n"
          ],
          "name": "stdout"
        }
      ]
    },
    {
      "cell_type": "markdown",
      "metadata": {
        "id": "4Cj4Kjcr-BTz",
        "colab_type": "text"
      },
      "source": [
        "次に、watermark extensionをロードする。"
      ]
    },
    {
      "cell_type": "code",
      "metadata": {
        "id": "3UFidLQs-JgY",
        "colab_type": "code",
        "outputId": "9261e25f-4814-4602-a7a9-19f2f299df63",
        "colab": {
          "base_uri": "https://localhost:8080/",
          "height": 51
        }
      },
      "source": [
        "%load_ext watermark"
      ],
      "execution_count": 0,
      "outputs": [
        {
          "output_type": "stream",
          "text": [
            "The watermark extension is already loaded. To reload it, use:\n",
            "  %reload_ext watermark\n"
          ],
          "name": "stdout"
        }
      ]
    },
    {
      "cell_type": "markdown",
      "metadata": {
        "id": "4diCchkC-RRd",
        "colab_type": "text"
      },
      "source": [
        "単純なwatermakを表示する。"
      ]
    },
    {
      "cell_type": "code",
      "metadata": {
        "id": "FaZVjDIK-Ask",
        "colab_type": "code",
        "outputId": "bf4196ed-beeb-44d2-ce55-2b2e69adfbb1",
        "colab": {
          "base_uri": "https://localhost:8080/",
          "height": 221
        }
      },
      "source": [
        "%watermark"
      ],
      "execution_count": 0,
      "outputs": [
        {
          "output_type": "stream",
          "text": [
            "2020-05-11T04:25:39+00:00\n",
            "\n",
            "CPython 3.6.9\n",
            "IPython 5.5.0\n",
            "\n",
            "compiler   : GCC 8.4.0\n",
            "system     : Linux\n",
            "release    : 4.19.104+\n",
            "machine    : x86_64\n",
            "processor  : x86_64\n",
            "CPU cores  : 2\n",
            "interpreter: 64bit\n"
          ],
          "name": "stdout"
        }
      ]
    },
    {
      "cell_type": "markdown",
      "metadata": {
        "id": "6ptUIAKX-nyb",
        "colab_type": "text"
      },
      "source": [
        "指定パッケージのバージョンを確認する。"
      ]
    },
    {
      "cell_type": "code",
      "metadata": {
        "id": "Wqhshh2l-qaD",
        "colab_type": "code",
        "outputId": "16105132-c8e4-4a70-dd92-184918048c34",
        "colab": {
          "base_uri": "https://localhost:8080/",
          "height": 51
        }
      },
      "source": [
        "%watermark -p numpy,tensorflow"
      ],
      "execution_count": 0,
      "outputs": [
        {
          "output_type": "stream",
          "text": [
            "numpy 1.18.4\n",
            "tensorflow 2.2.0rc4\n"
          ],
          "name": "stdout"
        }
      ]
    },
    {
      "cell_type": "markdown",
      "metadata": {
        "id": "xG-Fj18kWmeE",
        "colab_type": "text"
      },
      "source": [
        "## Appendix B\n",
        "\n",
        "google colabで作成した.ipynbをドライバーを使わずにpapermillで実行した結果、以下のようなエラーが出た。"
      ]
    },
    {
      "cell_type": "markdown",
      "metadata": {
        "id": "OVZ9AZt3W8CJ",
        "colab_type": "text"
      },
      "source": [
        "```\n",
        "  (ml_book) 4may@hanzawanaokinoMacBook-Air ~ % papermill Downloads/ci_test.ipynb output.ipynb -p alpha 0.6 -p ratio 0.1 \n",
        "\n",
        "Input Notebook:  Downloads/ci_test.ipynb\n",
        "Output Notebook: output.ipynb\n",
        "Traceback (most recent call last):\n",
        "  File \"/Users/4may/Documents/develop/py_env/ml_book/lib/python3.8/site-packages/ipython_genutils/ipstruct.py\", line 132, in __getattr__\n",
        "    result = self[key]\n",
        "KeyError: 'language'\n",
        "\n",
        "During handling of the above exception, another exception occurred:\n",
        "\n",
        "Traceback (most recent call last):\n",
        "  File \"/Users/4may/Documents/develop/py_env/ml_book/bin/papermill\", line 8, in <module>\n",
        "    sys.exit(papermill())\n",
        "  File \"/Users/4may/Documents/develop/py_env/ml_book/lib/python3.8/site-packages/click/core.py\", line 829, in __call__\n",
        "    return self.main(*args, **kwargs)\n",
        "  File \"/Users/4may/Documents/develop/py_env/ml_book/lib/python3.8/site-packages/click/core.py\", line 782, in main\n",
        "    rv = self.invoke(ctx)\n",
        "  File \"/Users/4may/Documents/develop/py_env/ml_book/lib/python3.8/site-packages/click/core.py\", line 1066, in invoke\n",
        "    return ctx.invoke(self.callback, **ctx.params)\n",
        "  File \"/Users/4may/Documents/develop/py_env/ml_book/lib/python3.8/site-packages/click/core.py\", line 610, in invoke\n",
        "    return callback(*args, **kwargs)\n",
        "  File \"/Users/4may/Documents/develop/py_env/ml_book/lib/python3.8/site-packages/papermill/cli.py\", line 222, in papermill\n",
        "    execute_notebook(\n",
        "  File \"/Users/4may/Documents/develop/py_env/ml_book/lib/python3.8/site-packages/papermill/execute.py\", line 83, in execute_notebook\n",
        "    nb = parameterize_notebook(nb, parameters, report_mode)\n",
        "  File \"/Users/4may/Documents/develop/py_env/ml_book/lib/python3.8/site-packages/papermill/parameterize.py\", line 74, in parameterize_notebook\n",
        "    language = nb.metadata.kernelspec.language\n",
        "  File \"/Users/4may/Documents/develop/py_env/ml_book/lib/python3.8/site-packages/ipython_genutils/ipstruct.py\", line 134, in __getattr__\n",
        "    raise AttributeError(key)\n",
        "AttributeError: language\n",
        "```"
      ]
    },
    {
      "cell_type": "markdown",
      "metadata": {
        "id": "jT7Mc7DfW0tB",
        "colab_type": "text"
      },
      "source": [
        "languageというキーが、colabのJsonにはないためにエラーとなっている。ちなみに、colabのjsonの中身は以下。"
      ]
    },
    {
      "cell_type": "markdown",
      "metadata": {
        "id": "xj36isVdWxvz",
        "colab_type": "text"
      },
      "source": [
        "```\n",
        "{\n",
        "  \"nbformat\": 4,\n",
        "  \"nbformat_minor\": 0,\n",
        "  \"metadata\": {\n",
        "    \"colab\": {\n",
        "      \"name\": \"ci_test.ipynb\",\n",
        "      \"provenance\": []\n",
        "    },\n",
        "    \"kernelspec\": {\n",
        "      \"name\": \"python3\",\n",
        "      \"display_name\": \"Python 3\"\n",
        "    }\n",
        "  },\n",
        "  \"cells\": [\n",
        "    {\n",
        "      \"cell_type\": \"code\",\n",
        "      \"metadata\": {\n",
        "        \"id\": \"eUNTV-mJGNuX\",\n",
        "        \"colab_type\": \"code\",\n",
        "        \"colab\": {}\n",
        "      },\n",
        "      \"source\": [\n",
        "        \"#実験用の変数\\n\",\n",
        "        \"alpha=0.1\\n\",\n",
        "        \"ratio=0.2\"\n",
        "      ],\n",
        "      \"execution_count\": 0,\n",
        "      \"outputs\": []\n",
        "    },\n",
        "    {\n",
        "      \"cell_type\": \"code\",\n",
        "      \"metadata\": {\n",
        "        \"id\": \"9-VYwyLtGfce\",\n",
        "        \"colab_type\": \"code\",\n",
        "        \"colab\": {\n",
        "          \"base_uri\": \"https://localhost:8080/\",\n",
        "          \"height\": 34\n",
        "        },\n",
        "        \"outputId\": \"a0b89338-30a7-48d3-8293-871243dec9e5\"\n",
        "      },\n",
        "      \"source\": [\n",
        "        \"print('sum of alpha and ratio:', alpha+ratio)\"\n",
        "      ],\n",
        "      \"execution_count\": 2,\n",
        "      \"outputs\": [\n",
        "        {\n",
        "          \"output_type\": \"stream\",\n",
        "          \"text\": [\n",
        "            \"sum of alpha and ratio: 0.30000000000000004\\n\"\n",
        "          ],\n",
        "          \"name\": \"stdout\"\n",
        "        }\n",
        "      ]\n",
        "    }\n",
        "  ]\n",
        "}\n",
        "```"
      ]
    },
    {
      "cell_type": "markdown",
      "metadata": {
        "id": "axYL-af-W3LW",
        "colab_type": "text"
      },
      "source": [
        "確かに、metadata.kernelspec.languageという項目は存在しない。なお、変数にはcells.sourceからアクセスできるようだ。"
      ]
    }
  ]
}